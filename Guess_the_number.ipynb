{
 "cells": [
  {
   "cell_type": "code",
   "execution_count": null,
   "id": "5720be81-b4fa-4483-bac5-d5c12deb062b",
   "metadata": {},
   "outputs": [],
   "source": [
    "import random\n",
    "number = random.randint(1,100)\n",
    "number_of_guesses = 0 \n",
    "\n",
    "while number_of_guesses < 5 :\n",
    "    print ('Guess a number between 1 to 100 :')\n",
    "    guess = input()\n",
    "    guess = int(guess)\n",
    "    number_of_guesses += 1\n",
    "\n",
    "    if guess == number:\n",
    "        break\n",
    "    elif number_of_guesses == 5:\n",
    "        break\n",
    "    else :\n",
    "        print('Nope! Try Again.')\n",
    "\n",
    "if guess == number :\n",
    "    print ('Correct! You Guess the number in ' + str(number_of_guesses) + ' tries!')\n",
    "else:\n",
    "    print ('You did not guess the number. The number was ' + str(number)+ '.')\n"
   ]
  },
  {
   "cell_type": "code",
   "execution_count": null,
   "id": "452387a3-dd28-4b34-b515-a4017a576dce",
   "metadata": {},
   "outputs": [],
   "source": []
  }
 ],
 "metadata": {
  "kernelspec": {
   "display_name": "Python [conda env:base] *",
   "language": "python",
   "name": "conda-base-py"
  },
  "language_info": {
   "codemirror_mode": {
    "name": "ipython",
    "version": 3
   },
   "file_extension": ".py",
   "mimetype": "text/x-python",
   "name": "python",
   "nbconvert_exporter": "python",
   "pygments_lexer": "ipython3",
   "version": "3.13.5"
  }
 },
 "nbformat": 4,
 "nbformat_minor": 5
}
